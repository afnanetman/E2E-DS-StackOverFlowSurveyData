{
 "cells": [
  {
   "cell_type": "code",
   "execution_count": 8,
   "id": "47c7c894-1a88-4f34-80ca-464a1dd5756d",
   "metadata": {},
   "outputs": [],
   "source": [
    "DATA_PATH = 'C:/Users/afnan//E2E DS Project - StackOverFlow survey data/E2E-DS-StackOverFlowSurveyData/data/raw/survey_results_public.csv'"
   ]
  },
  {
   "cell_type": "code",
   "execution_count": 5,
   "id": "68e56afa-50d9-466b-8732-9edf54ac7a3c",
   "metadata": {},
   "outputs": [],
   "source": [
    "import pandas as pd \n",
    "import numpy as np\n",
    "pd.options.display.max_rows = 10000"
   ]
  },
  {
   "cell_type": "code",
   "execution_count": 9,
   "id": "14daa600-f678-4720-bd25-f39707264609",
   "metadata": {},
   "outputs": [
    {
     "data": {
      "text/plain": [
       "(83439, 48)"
      ]
     },
     "execution_count": 9,
     "metadata": {},
     "output_type": "execute_result"
    }
   ],
   "source": [
    "# Read data and print shape\n",
    "raw_df = pd.read_csv(DATA_PATH)\n",
    "raw_df.shape"
   ]
  },
  {
   "cell_type": "code",
   "execution_count": 14,
   "id": "89cb946c-3fba-45f2-8710-e21995d337cc",
   "metadata": {},
   "outputs": [
    {
     "data": {
      "text/plain": [
       "ResponseId                                                                   9224\n",
       "MainBranch                                         I am a developer by profession\n",
       "Employment                                                     Employed full-time\n",
       "Country                                                              South Africa\n",
       "US_State                                                                      NaN\n",
       "UK_Country                                                                    NaN\n",
       "EdLevel                         Some college/university study without earning ...\n",
       "Age1stCode                                                          18 - 24 years\n",
       "LearnCode                         Other online resources (ex: videos, blogs, etc)\n",
       "YearsCode                                                                      24\n",
       "YearsCodePro                                                                   14\n",
       "DevType                         Developer, front-end;Developer, back-end;Designer\n",
       "OrgSize                                                        20 to 99 employees\n",
       "Currency                                                  ZAR\\tSouth African rand\n",
       "CompTotal                                                                 49500.0\n",
       "CompFreq                                                                  Monthly\n",
       "LanguageHaveWorkedWith                 HTML/CSS;JavaScript;Node.js;PHP;Python;SQL\n",
       "LanguageWantToWorkWith                 HTML/CSS;JavaScript;Node.js;PHP;Python;SQL\n",
       "DatabaseHaveWorkedWith                                                      MySQL\n",
       "DatabaseWantToWorkWith                                                      MySQL\n",
       "PlatformHaveWorkedWith                                                        NaN\n",
       "PlatformWantToWorkWith                                                        NaN\n",
       "WebframeHaveWorkedWith                                                     jQuery\n",
       "WebframeWantToWorkWith                                                     jQuery\n",
       "MiscTechHaveWorkedWith                                                    Cordova\n",
       "MiscTechWantToWorkWith                                                    Cordova\n",
       "ToolsTechHaveWorkedWith                                                Docker;Git\n",
       "ToolsTechWantToWorkWith                                                       Git\n",
       "NEWCollabToolsHaveWorkedWith                             Android Studio;Notepad++\n",
       "NEWCollabToolsWantToWorkWith                                            Notepad++\n",
       "OpSys                                                                     Windows\n",
       "NEWStuck                                           Visit Stack Overflow;Google it\n",
       "NEWSOSites                                          Stack Overflow;Stack Exchange\n",
       "SOVisitFreq                                                Multiple times per day\n",
       "SOAccount                                                                     Yes\n",
       "SOPartFreq                                    Less than once per month or monthly\n",
       "SOComm                                                              Yes, somewhat\n",
       "NEWOtherComms                                                                  No\n",
       "Age                                                               35-44 years old\n",
       "Gender                                                                        Man\n",
       "Trans                                                                          No\n",
       "Sexuality                                                 Straight / Heterosexual\n",
       "Ethnicity                                            White or of European descent\n",
       "Accessibility                                                   None of the above\n",
       "MentalHealth                                           I have an anxiety disorder\n",
       "SurveyLength                                                Appropriate in length\n",
       "SurveyEase                                                                   Easy\n",
       "ConvertedCompYearly                                                       39624.0\n",
       "Name: 9223, dtype: object"
      ]
     },
     "execution_count": 14,
     "metadata": {},
     "output_type": "execute_result"
    }
   ],
   "source": [
    "# Display random answer \n",
    "# Observations: Multiple answers need to be splitted \n",
    "# Reference to the schema needed to understand \n",
    "raw_df.sample(1).iloc[0]"
   ]
  },
  {
   "cell_type": "code",
   "execution_count": 13,
   "id": "b7c8c99e-8e63-49d2-a31c-9640e2d4511d",
   "metadata": {},
   "outputs": [
    {
     "name": "stdout",
     "output_type": "stream",
     "text": [
      "<class 'pandas.core.frame.DataFrame'>\n",
      "RangeIndex: 83439 entries, 0 to 83438\n",
      "Data columns (total 48 columns):\n",
      " #   Column                        Non-Null Count  Dtype  \n",
      "---  ------                        --------------  -----  \n",
      " 0   ResponseId                    83439 non-null  int64  \n",
      " 1   MainBranch                    83439 non-null  object \n",
      " 2   Employment                    83323 non-null  object \n",
      " 3   Country                       83439 non-null  object \n",
      " 4   US_State                      14920 non-null  object \n",
      " 5   UK_Country                    4418 non-null   object \n",
      " 6   EdLevel                       83126 non-null  object \n",
      " 7   Age1stCode                    83243 non-null  object \n",
      " 8   LearnCode                     82963 non-null  object \n",
      " 9   YearsCode                     81641 non-null  object \n",
      " 10  YearsCodePro                  61216 non-null  object \n",
      " 11  DevType                       66484 non-null  object \n",
      " 12  OrgSize                       60726 non-null  object \n",
      " 13  Currency                      61080 non-null  object \n",
      " 14  CompTotal                     47183 non-null  float64\n",
      " 15  CompFreq                      52150 non-null  object \n",
      " 16  LanguageHaveWorkedWith        82357 non-null  object \n",
      " 17  LanguageWantToWorkWith        76821 non-null  object \n",
      " 18  DatabaseHaveWorkedWith        69546 non-null  object \n",
      " 19  DatabaseWantToWorkWith        58299 non-null  object \n",
      " 20  PlatformHaveWorkedWith        52135 non-null  object \n",
      " 21  PlatformWantToWorkWith        41619 non-null  object \n",
      " 22  WebframeHaveWorkedWith        61707 non-null  object \n",
      " 23  WebframeWantToWorkWith        52095 non-null  object \n",
      " 24  MiscTechHaveWorkedWith        47055 non-null  object \n",
      " 25  MiscTechWantToWorkWith        38021 non-null  object \n",
      " 26  ToolsTechHaveWorkedWith       72537 non-null  object \n",
      " 27  ToolsTechWantToWorkWith       65480 non-null  object \n",
      " 28  NEWCollabToolsHaveWorkedWith  81234 non-null  object \n",
      " 29  NEWCollabToolsWantToWorkWith  73022 non-null  object \n",
      " 30  OpSys                         83294 non-null  object \n",
      " 31  NEWStuck                      83052 non-null  object \n",
      " 32  NEWSOSites                    83171 non-null  object \n",
      " 33  SOVisitFreq                   82413 non-null  object \n",
      " 34  SOAccount                     82525 non-null  object \n",
      " 35  SOPartFreq                    67553 non-null  object \n",
      " 36  SOComm                        82319 non-null  object \n",
      " 37  NEWOtherComms                 82828 non-null  object \n",
      " 38  Age                           82407 non-null  object \n",
      " 39  Gender                        82286 non-null  object \n",
      " 40  Trans                         80678 non-null  object \n",
      " 41  Sexuality                     73366 non-null  object \n",
      " 42  Ethnicity                     79464 non-null  object \n",
      " 43  Accessibility                 77603 non-null  object \n",
      " 44  MentalHealth                  76920 non-null  object \n",
      " 45  SurveyLength                  81711 non-null  object \n",
      " 46  SurveyEase                    81948 non-null  object \n",
      " 47  ConvertedCompYearly           46844 non-null  float64\n",
      "dtypes: float64(2), int64(1), object(45)\n",
      "memory usage: 30.6+ MB\n"
     ]
    }
   ],
   "source": [
    "# Print the general information of the data frame \n",
    "raw_df.info()"
   ]
  },
  {
   "cell_type": "code",
   "execution_count": 15,
   "id": "79104441-e888-4cb5-a290-5da6dd5d4f84",
   "metadata": {},
   "outputs": [
    {
     "data": {
      "text/html": [
       "<div>\n",
       "<style scoped>\n",
       "    .dataframe tbody tr th:only-of-type {\n",
       "        vertical-align: middle;\n",
       "    }\n",
       "\n",
       "    .dataframe tbody tr th {\n",
       "        vertical-align: top;\n",
       "    }\n",
       "\n",
       "    .dataframe thead th {\n",
       "        text-align: right;\n",
       "    }\n",
       "</style>\n",
       "<table border=\"1\" class=\"dataframe\">\n",
       "  <thead>\n",
       "    <tr style=\"text-align: right;\">\n",
       "      <th></th>\n",
       "      <th>ResponseId</th>\n",
       "      <th>CompTotal</th>\n",
       "      <th>ConvertedCompYearly</th>\n",
       "    </tr>\n",
       "  </thead>\n",
       "  <tbody>\n",
       "    <tr>\n",
       "      <th>count</th>\n",
       "      <td>83439.000000</td>\n",
       "      <td>4.718300e+04</td>\n",
       "      <td>4.684400e+04</td>\n",
       "    </tr>\n",
       "    <tr>\n",
       "      <th>mean</th>\n",
       "      <td>41720.000000</td>\n",
       "      <td>2.119407e+69</td>\n",
       "      <td>1.184262e+05</td>\n",
       "    </tr>\n",
       "    <tr>\n",
       "      <th>std</th>\n",
       "      <td>24086.908893</td>\n",
       "      <td>4.603702e+71</td>\n",
       "      <td>5.272944e+05</td>\n",
       "    </tr>\n",
       "    <tr>\n",
       "      <th>min</th>\n",
       "      <td>1.000000</td>\n",
       "      <td>0.000000e+00</td>\n",
       "      <td>1.000000e+00</td>\n",
       "    </tr>\n",
       "    <tr>\n",
       "      <th>25%</th>\n",
       "      <td>20860.500000</td>\n",
       "      <td>1.600000e+04</td>\n",
       "      <td>2.702500e+04</td>\n",
       "    </tr>\n",
       "    <tr>\n",
       "      <th>50%</th>\n",
       "      <td>41720.000000</td>\n",
       "      <td>6.700000e+04</td>\n",
       "      <td>5.621100e+04</td>\n",
       "    </tr>\n",
       "    <tr>\n",
       "      <th>75%</th>\n",
       "      <td>62579.500000</td>\n",
       "      <td>1.400000e+05</td>\n",
       "      <td>1.000000e+05</td>\n",
       "    </tr>\n",
       "    <tr>\n",
       "      <th>max</th>\n",
       "      <td>83439.000000</td>\n",
       "      <td>1.000000e+74</td>\n",
       "      <td>4.524131e+07</td>\n",
       "    </tr>\n",
       "  </tbody>\n",
       "</table>\n",
       "</div>"
      ],
      "text/plain": [
       "         ResponseId     CompTotal  ConvertedCompYearly\n",
       "count  83439.000000  4.718300e+04         4.684400e+04\n",
       "mean   41720.000000  2.119407e+69         1.184262e+05\n",
       "std    24086.908893  4.603702e+71         5.272944e+05\n",
       "min        1.000000  0.000000e+00         1.000000e+00\n",
       "25%    20860.500000  1.600000e+04         2.702500e+04\n",
       "50%    41720.000000  6.700000e+04         5.621100e+04\n",
       "75%    62579.500000  1.400000e+05         1.000000e+05\n",
       "max    83439.000000  1.000000e+74         4.524131e+07"
      ]
     },
     "execution_count": 15,
     "metadata": {},
     "output_type": "execute_result"
    }
   ],
   "source": [
    "# Get stats for the numerical column\n",
    "raw_df.describe()"
   ]
  },
  {
   "cell_type": "code",
   "execution_count": 16,
   "id": "e49d9a4d-740c-4d8e-b3b2-ca35793aca45",
   "metadata": {},
   "outputs": [
    {
     "name": "stdout",
     "output_type": "stream",
     "text": [
      "YearsCodePro\n",
      "[nan, '10', '4', '5', '6', '2', '30', '9', '18', '12', '21', '1', '16', 'Less than 1 year', '15', '3', '35', '7', '8', '17', '14', '26', '25', '20', '50', '34', '11', '24', '22', '13', '31', '23', '39', '41', '27', '28', '19', '33', 'More than 50 years', '37', '29', '32', '43', '40', '38', '45', '42', '46', '36', '44', '47', '48', '49']\n",
      "--------------------------\n",
      "\n",
      "YearsCode\n",
      "[nan, '7', '17', '3', '4', '6', '16', '12', '15', '10', '40', '9', '26', '14', '39', '20', '8', '19', '5', 'Less than 1 year', '22', '2', '1', '34', '21', '13', '25', '24', '30', '31', '18', '38', 'More than 50 years', '27', '41', '42', '35', '23', '28', '11', '37', '44', '43', '36', '33', '45', '29', '50', '46', '32', '47', '49', '48']\n",
      "--------------------------\n",
      "\n",
      "Age1stCode\n",
      "['18 - 24 years', '11 - 17 years', '5 - 10 years', '25 - 34 years', '35 - 44 years', 'Younger than 5 years', '45 - 54 years', '55 - 64 years', nan, 'Older than 64 years']\n",
      "--------------------------\n",
      "\n"
     ]
    }
   ],
   "source": [
    "# Investigate the questionable objects columns\n",
    "questionable_cols = ['YearsCodePro', 'YearsCode', 'Age1stCode']\n",
    "\n",
    "for col in questionable_cols: \n",
    "    print(col)\n",
    "    print(raw_df[col].unique().tolist())\n",
    "    print('--------------------------')\n",
    "    print()"
   ]
  },
  {
   "cell_type": "code",
   "execution_count": null,
   "id": "a8ec8653-ada8-4136-b306-404197674afc",
   "metadata": {},
   "outputs": [],
   "source": []
  }
 ],
 "metadata": {
  "kernelspec": {
   "display_name": "Python 3 (ipykernel)",
   "language": "python",
   "name": "python3"
  },
  "language_info": {
   "codemirror_mode": {
    "name": "ipython",
    "version": 3
   },
   "file_extension": ".py",
   "mimetype": "text/x-python",
   "name": "python",
   "nbconvert_exporter": "python",
   "pygments_lexer": "ipython3",
   "version": "3.9.7"
  }
 },
 "nbformat": 4,
 "nbformat_minor": 5
}
